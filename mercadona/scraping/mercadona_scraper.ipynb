{
 "cells": [
  {
   "attachments": {},
   "cell_type": "markdown",
   "metadata": {},
   "source": [
    "# Mercadona Scraper\n",
    "This jupyter notebook is designed to run the functions in the \"scraper.py\" script to scrape product information from the Mercadona supermarket's website."
   ]
  },
  {
   "cell_type": "code",
   "execution_count": 5,
   "metadata": {},
   "outputs": [],
   "source": [
    "from scraper import get_categories, get_subcategories, get_product_info, mercadona_full_scraper\n",
    "from dotenv import load_dotenv\n",
    "import os"
   ]
  },
  {
   "attachments": {},
   "cell_type": "markdown",
   "metadata": {},
   "source": [
    "### Load dotenv\n",
    "First we load the zipcode from our .env file. The functions use this information to scrape the site, it can be stored in a variable and used in the function calls."
   ]
  },
  {
   "cell_type": "code",
   "execution_count": 6,
   "metadata": {},
   "outputs": [
    {
     "data": {
      "text/plain": [
       "True"
      ]
     },
     "execution_count": 6,
     "metadata": {},
     "output_type": "execute_result"
    }
   ],
   "source": [
    "load_dotenv()"
   ]
  },
  {
   "cell_type": "code",
   "execution_count": 7,
   "metadata": {},
   "outputs": [],
   "source": [
    "postal_code = os.getenv(\"cod_postal\")"
   ]
  },
  {
   "attachments": {},
   "cell_type": "markdown",
   "metadata": {},
   "source": [
    "## Scraping\n",
    "The function \"mercadona_full_scraper()\" contains all the functions necesary to do a complete scrape of the website and retreive all the products. After every subcategory has been succesfully scraped, all the information is store in a single .csv file in the \"scraping output\" folder "
   ]
  },
  {
   "cell_type": "code",
   "execution_count": 9,
   "metadata": {},
   "outputs": [
    {
     "name": "stdout",
     "output_type": "stream",
     "text": [
      "Getting products for the \"Aceite, vinagre y sal\" subcategory in the \"Aceite, especias y salsas\" category...                                                \n",
      "Scraping \"39: Sal rosa del Hi...\" product...                                                                              \n",
      "---------------\n",
      "Time:0.79\n",
      "Finished 'Aceite, vinagre y sal' subcateogry succesfully. \n",
      "39 products registered.\n",
      "Waiting 0.13 minutes so that we don't get caught...\n",
      "Current size of data captured: (39, 11)\n",
      "---------------\n",
      "\n",
      "\n",
      "\n",
      "Time: 0.9\n",
      "!!! An error occurred in subcategory \"Aceite, vinagre y sal\". Retrying in 1.35 minutes...\n",
      "\n"
     ]
    }
   ],
   "source": [
    "product_info, mising_subcategories = mercadona_full_scraper(postal_code,retry=5, wait_min=0.1, wait_max=0.2, e_wait_min=0.2, e_wait_max=2, max_error_wait = 5, prod_wait=0, headless=False)"
   ]
  },
  {
   "attachments": {},
   "cell_type": "markdown",
   "metadata": {},
   "source": [
    "# In case of errors\n",
    "Categories that couldnt be scraped will be saved in the 'mising_subcategories' DataFrame. The function \"get_product_info()\" could be called for every category and subcategory in this DataFrame to complete the scraping."
   ]
  }
 ],
 "metadata": {
  "kernelspec": {
   "display_name": "ironhack",
   "language": "python",
   "name": "python3"
  },
  "language_info": {
   "codemirror_mode": {
    "name": "ipython",
    "version": 3
   },
   "file_extension": ".py",
   "mimetype": "text/x-python",
   "name": "python",
   "nbconvert_exporter": "python",
   "pygments_lexer": "ipython3",
   "version": "3.9.12"
  },
  "orig_nbformat": 4
 },
 "nbformat": 4,
 "nbformat_minor": 2
}
