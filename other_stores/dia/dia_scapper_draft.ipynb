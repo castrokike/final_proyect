{
 "cells": [
  {
   "cell_type": "code",
   "execution_count": 26,
   "metadata": {},
   "outputs": [
    {
     "data": {
      "text/plain": [
       "True"
      ]
     },
     "execution_count": 26,
     "metadata": {},
     "output_type": "execute_result"
    }
   ],
   "source": [
    "# Import libraries\n",
    "import chromedriver_autoinstaller\n",
    "chromedriver_autoinstaller.install()\n",
    "from selenium import webdriver\n",
    "from selenium.webdriver.common.keys import Keys\n",
    "from selenium.webdriver.common.by import By\n",
    "from selenium.webdriver.support.ui import WebDriverWait\n",
    "from selenium.webdriver.support import expected_conditions as EC\n",
    "from selenium.webdriver.chrome.options import Options\n",
    "from selenium.webdriver.common.action_chains import ActionChains\n",
    "\n",
    "\n",
    "# Time imports\n",
    "import random\n",
    "import datetime\n",
    "import time\n",
    "\n",
    "# Other imports\n",
    "import re as re\n",
    "import pandas as pd\n",
    "import os\n",
    "import sys\n",
    "import numpy as np\n",
    "\n",
    "import pymysql\n",
    "import sqlalchemy as alch\n",
    "from getpass import getpass\n",
    "\n",
    "from dotenv import load_dotenv\n",
    "load_dotenv()"
   ]
  },
  {
   "cell_type": "code",
   "execution_count": 28,
   "metadata": {},
   "outputs": [
    {
     "ename": "TimeoutException",
     "evalue": "Message: \nStacktrace:\n0   chromedriver                        0x0000000100979bb8 chromedriver + 4873144\n1   chromedriver                        0x00000001008f7cd3 chromedriver + 4340947\n2   chromedriver                        0x0000000100547c16 chromedriver + 474134\n3   chromedriver                        0x000000010058b420 chromedriver + 750624\n4   chromedriver                        0x000000010058b681 chromedriver + 751233\n5   chromedriver                        0x00000001005cf784 chromedriver + 1030020\n6   chromedriver                        0x00000001005b14bd chromedriver + 906429\n7   chromedriver                        0x00000001005cca8b chromedriver + 1018507\n8   chromedriver                        0x00000001005b1263 chromedriver + 905827\n9   chromedriver                        0x000000010057b49f chromedriver + 685215\n10  chromedriver                        0x000000010057c9be chromedriver + 690622\n11  chromedriver                        0x000000010094718e chromedriver + 4665742\n12  chromedriver                        0x000000010094c331 chromedriver + 4686641\n13  chromedriver                        0x0000000100952cef chromedriver + 4713711\n14  chromedriver                        0x000000010094d22a chromedriver + 4690474\n15  chromedriver                        0x000000010091f74e chromedriver + 4503374\n16  chromedriver                        0x000000010096cef8 chromedriver + 4820728\n17  chromedriver                        0x000000010096d077 chromedriver + 4821111\n18  chromedriver                        0x0000000100981a4f chromedriver + 4905551\n19  libsystem_pthread.dylib             0x00007ff8126064e1 _pthread_start + 125\n20  libsystem_pthread.dylib             0x00007ff812601f6b thread_start + 15\n",
     "output_type": "error",
     "traceback": [
      "\u001b[0;31m---------------------------------------------------------------------------\u001b[0m",
      "\u001b[0;31mTimeoutException\u001b[0m                          Traceback (most recent call last)",
      "\u001b[1;32m/Users/kike/Documents/Personal/Educación/IronHack/Final Project/final_project/dia/dia_scapper_draft.ipynb Cell 2\u001b[0m in \u001b[0;36m<cell line: 27>\u001b[0;34m()\u001b[0m\n\u001b[1;32m     <a href='vscode-notebook-cell:/Users/kike/Documents/Personal/Educaci%C3%B3n/IronHack/Final%20Project/final_project/dia/dia_scapper_draft.ipynb#W1sZmlsZQ%3D%3D?line=16'>17</a>\u001b[0m enter_zip \u001b[39m=\u001b[39m WebDriverWait(driver, \u001b[39m10\u001b[39m)\u001b[39m.\u001b[39muntil(\n\u001b[1;32m     <a href='vscode-notebook-cell:/Users/kike/Documents/Personal/Educaci%C3%B3n/IronHack/Final%20Project/final_project/dia/dia_scapper_draft.ipynb#W1sZmlsZQ%3D%3D?line=17'>18</a>\u001b[0m     EC\u001b[39m.\u001b[39melement_to_be_clickable(\n\u001b[1;32m     <a href='vscode-notebook-cell:/Users/kike/Documents/Personal/Educaci%C3%B3n/IronHack/Final%20Project/final_project/dia/dia_scapper_draft.ipynb#W1sZmlsZQ%3D%3D?line=18'>19</a>\u001b[0m         (By\u001b[39m.\u001b[39mCSS_SELECTOR, \u001b[39m'\u001b[39m\u001b[39mspan[class=\u001b[39m\u001b[39m\"\u001b[39m\u001b[39mdelivery-time-interval-change-CP\u001b[39m\u001b[39m\"\u001b[39m\u001b[39m]\u001b[39m\u001b[39m'\u001b[39m)\n\u001b[1;32m     <a href='vscode-notebook-cell:/Users/kike/Documents/Personal/Educaci%C3%B3n/IronHack/Final%20Project/final_project/dia/dia_scapper_draft.ipynb#W1sZmlsZQ%3D%3D?line=19'>20</a>\u001b[0m ))\u001b[39m.\u001b[39mclick()\n\u001b[1;32m     <a href='vscode-notebook-cell:/Users/kike/Documents/Personal/Educaci%C3%B3n/IronHack/Final%20Project/final_project/dia/dia_scapper_draft.ipynb#W1sZmlsZQ%3D%3D?line=21'>22</a>\u001b[0m enter_zip2 \u001b[39m=\u001b[39m WebDriverWait(driver, \u001b[39m10\u001b[39m)\u001b[39m.\u001b[39muntil(\n\u001b[1;32m     <a href='vscode-notebook-cell:/Users/kike/Documents/Personal/Educaci%C3%B3n/IronHack/Final%20Project/final_project/dia/dia_scapper_draft.ipynb#W1sZmlsZQ%3D%3D?line=22'>23</a>\u001b[0m     EC\u001b[39m.\u001b[39melement_to_be_clickable(\n\u001b[1;32m     <a href='vscode-notebook-cell:/Users/kike/Documents/Personal/Educaci%C3%B3n/IronHack/Final%20Project/final_project/dia/dia_scapper_draft.ipynb#W1sZmlsZQ%3D%3D?line=23'>24</a>\u001b[0m         (By\u001b[39m.\u001b[39mCSS_SELECTOR, \u001b[39m'\u001b[39m\u001b[39ma[class=\u001b[39m\u001b[39m\"\u001b[39m\u001b[39mselect2-choice\u001b[39m\u001b[39m\"\u001b[39m\u001b[39m]\u001b[39m\u001b[39m'\u001b[39m)\n\u001b[1;32m     <a href='vscode-notebook-cell:/Users/kike/Documents/Personal/Educaci%C3%B3n/IronHack/Final%20Project/final_project/dia/dia_scapper_draft.ipynb#W1sZmlsZQ%3D%3D?line=24'>25</a>\u001b[0m ))\u001b[39m.\u001b[39mclick()\n\u001b[0;32m---> <a href='vscode-notebook-cell:/Users/kike/Documents/Personal/Educaci%C3%B3n/IronHack/Final%20Project/final_project/dia/dia_scapper_draft.ipynb#W1sZmlsZQ%3D%3D?line=26'>27</a>\u001b[0m enter_zip3 \u001b[39m=\u001b[39m WebDriverWait(driver, \u001b[39m10\u001b[39;49m)\u001b[39m.\u001b[39;49muntil(\n\u001b[1;32m     <a href='vscode-notebook-cell:/Users/kike/Documents/Personal/Educaci%C3%B3n/IronHack/Final%20Project/final_project/dia/dia_scapper_draft.ipynb#W1sZmlsZQ%3D%3D?line=27'>28</a>\u001b[0m     EC\u001b[39m.\u001b[39;49mpresence_of_element_located(\n\u001b[1;32m     <a href='vscode-notebook-cell:/Users/kike/Documents/Personal/Educaci%C3%B3n/IronHack/Final%20Project/final_project/dia/dia_scapper_draft.ipynb#W1sZmlsZQ%3D%3D?line=28'>29</a>\u001b[0m          (By\u001b[39m.\u001b[39;49mXPATH, \u001b[39m'\u001b[39;49m\u001b[39m//li[contains(text(),\u001b[39;49m\u001b[39m\"\u001b[39;49m\u001b[39m08012\u001b[39;49m\u001b[39m\"\u001b[39;49m\u001b[39m)]\u001b[39;49m\u001b[39m'\u001b[39;49m)\n\u001b[1;32m     <a href='vscode-notebook-cell:/Users/kike/Documents/Personal/Educaci%C3%B3n/IronHack/Final%20Project/final_project/dia/dia_scapper_draft.ipynb#W1sZmlsZQ%3D%3D?line=29'>30</a>\u001b[0m     )\n\u001b[1;32m     <a href='vscode-notebook-cell:/Users/kike/Documents/Personal/Educaci%C3%B3n/IronHack/Final%20Project/final_project/dia/dia_scapper_draft.ipynb#W1sZmlsZQ%3D%3D?line=30'>31</a>\u001b[0m )\n\u001b[1;32m     <a href='vscode-notebook-cell:/Users/kike/Documents/Personal/Educaci%C3%B3n/IronHack/Final%20Project/final_project/dia/dia_scapper_draft.ipynb#W1sZmlsZQ%3D%3D?line=32'>33</a>\u001b[0m \u001b[39m# Scroll the element into view\u001b[39;00m\n\u001b[1;32m     <a href='vscode-notebook-cell:/Users/kike/Documents/Personal/Educaci%C3%B3n/IronHack/Final%20Project/final_project/dia/dia_scapper_draft.ipynb#W1sZmlsZQ%3D%3D?line=33'>34</a>\u001b[0m driver\u001b[39m.\u001b[39mexecute_script(\u001b[39m\"\u001b[39m\u001b[39marguments[0].scrollIntoView();\u001b[39m\u001b[39m\"\u001b[39m, enter_zip3)\n",
      "File \u001b[0;32m/opt/miniconda3/envs/ironhack/lib/python3.9/site-packages/selenium/webdriver/support/wait.py:95\u001b[0m, in \u001b[0;36mWebDriverWait.until\u001b[0;34m(self, method, message)\u001b[0m\n\u001b[1;32m     93\u001b[0m     \u001b[39mif\u001b[39;00m time\u001b[39m.\u001b[39mmonotonic() \u001b[39m>\u001b[39m end_time:\n\u001b[1;32m     94\u001b[0m         \u001b[39mbreak\u001b[39;00m\n\u001b[0;32m---> 95\u001b[0m \u001b[39mraise\u001b[39;00m TimeoutException(message, screen, stacktrace)\n",
      "\u001b[0;31mTimeoutException\u001b[0m: Message: \nStacktrace:\n0   chromedriver                        0x0000000100979bb8 chromedriver + 4873144\n1   chromedriver                        0x00000001008f7cd3 chromedriver + 4340947\n2   chromedriver                        0x0000000100547c16 chromedriver + 474134\n3   chromedriver                        0x000000010058b420 chromedriver + 750624\n4   chromedriver                        0x000000010058b681 chromedriver + 751233\n5   chromedriver                        0x00000001005cf784 chromedriver + 1030020\n6   chromedriver                        0x00000001005b14bd chromedriver + 906429\n7   chromedriver                        0x00000001005cca8b chromedriver + 1018507\n8   chromedriver                        0x00000001005b1263 chromedriver + 905827\n9   chromedriver                        0x000000010057b49f chromedriver + 685215\n10  chromedriver                        0x000000010057c9be chromedriver + 690622\n11  chromedriver                        0x000000010094718e chromedriver + 4665742\n12  chromedriver                        0x000000010094c331 chromedriver + 4686641\n13  chromedriver                        0x0000000100952cef chromedriver + 4713711\n14  chromedriver                        0x000000010094d22a chromedriver + 4690474\n15  chromedriver                        0x000000010091f74e chromedriver + 4503374\n16  chromedriver                        0x000000010096cef8 chromedriver + 4820728\n17  chromedriver                        0x000000010096d077 chromedriver + 4821111\n18  chromedriver                        0x0000000100981a4f chromedriver + 4905551\n19  libsystem_pthread.dylib             0x00007ff8126064e1 _pthread_start + 125\n20  libsystem_pthread.dylib             0x00007ff812601f6b thread_start + 15\n"
     ]
    }
   ],
   "source": [
    "cod_postal = '08012'\n",
    "\n",
    "# Start the driver\n",
    "driver = webdriver.Chrome()\n",
    "\n",
    "# Navigate to the login page\n",
    "driver.get('https://www.dia.es/compra-online/')\n",
    "\n",
    "# Accept cookies\n",
    "cookies = WebDriverWait(driver, 20).until(\n",
    "    EC.element_to_be_clickable(\n",
    "        (By.CSS_SELECTOR, 'button[id=\"onetrust-accept-btn-handler\"]')\n",
    "))\n",
    "driver.execute_script(\"arguments[0].click();\", cookies)\n",
    "\n",
    "# Enter the postal code and submit\n",
    "enter_zip = WebDriverWait(driver, 10).until(\n",
    "    EC.element_to_be_clickable(\n",
    "        (By.CSS_SELECTOR, 'span[class=\"delivery-time-interval-change-CP\"]')\n",
    ")).click()\n",
    "\n",
    "enter_zip2 = WebDriverWait(driver, 10).until(\n",
    "    EC.element_to_be_clickable(\n",
    "        (By.CSS_SELECTOR, 'a[class=\"select2-choice\"]')\n",
    ")).click()\n",
    "\n",
    "enter_zip3 = WebDriverWait(driver, 10).until(\n",
    "    EC.presence_of_element_located(\n",
    "         (By.XPATH, '//li[contains(text(),\"08012\")]')\n",
    "    )\n",
    ")\n",
    "\n",
    "# Scroll the element into view\n",
    "driver.execute_script(\"arguments[0].scrollIntoView();\", enter_zip3)\n",
    "\n",
    "# Move to the element to ensure it's in view and click it\n",
    "ActionChains(driver).move_to_element(enter_zip3).click().perform()\n",
    "\n",
    "# <input type=\"text\" autocomplete=\"off\" autocorrect=\"off\" autocapitalize=\"off\" spellcheck=\"false\" class=\"select2-input\">\n",
    "# <a href=\"javascript:void(0)\" onclick=\"return false;\" class=\"select2-choice\" tabindex=\"-1\">   <span class=\"select2-chosen\">01003 - VITORIA-GASTEIZ</span><abbr class=\"select2-search-choice-close\"></abbr>   <span class=\"select2-arrow\"><b></b></span></a>\n",
    "\"\"\"\n",
    "postal_code = driver.find_element(By.CSS_SELECTOR, 'input[aria-label=\"Código postal\"]').send_keys(zip)\n",
    "\n",
    "submit_button = driver.find_element(By.CSS_SELECTOR, 'input.postal-code-form__button').click()\n",
    "\n",
    "# Wait until categories is clickable and click it.\n",
    "categorias_link = WebDriverWait(driver, 10).until(EC.visibility_of_element_located((By.LINK_TEXT, \"Categorías\"))).click()\n",
    "\n",
    "\"\"\"\n"
   ]
  },
  {
   "cell_type": "code",
   "execution_count": null,
   "metadata": {},
   "outputs": [],
   "source": []
  }
 ],
 "metadata": {
  "kernelspec": {
   "display_name": "ironhack",
   "language": "python",
   "name": "python3"
  },
  "language_info": {
   "codemirror_mode": {
    "name": "ipython",
    "version": 3
   },
   "file_extension": ".py",
   "mimetype": "text/x-python",
   "name": "python",
   "nbconvert_exporter": "python",
   "pygments_lexer": "ipython3",
   "version": "3.9.12"
  },
  "orig_nbformat": 4
 },
 "nbformat": 4,
 "nbformat_minor": 2
}
