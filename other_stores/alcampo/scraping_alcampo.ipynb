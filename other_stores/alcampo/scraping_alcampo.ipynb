{
 "cells": [
  {
   "cell_type": "code",
   "execution_count": 1,
   "metadata": {},
   "outputs": [
    {
     "data": {
      "text/plain": [
       "True"
      ]
     },
     "execution_count": 1,
     "metadata": {},
     "output_type": "execute_result"
    }
   ],
   "source": [
    "# Import libraries\n",
    "import chromedriver_autoinstaller\n",
    "chromedriver_autoinstaller.install()\n",
    "from selenium import webdriver\n",
    "from selenium.webdriver.common.keys import Keys\n",
    "from selenium.webdriver.common.by import By\n",
    "from selenium.webdriver.support.ui import WebDriverWait\n",
    "from selenium.webdriver.support import expected_conditions as EC\n",
    "from selenium.webdriver.chrome.options import Options\n",
    "\n",
    "# Time imports\n",
    "import random\n",
    "import datetime\n",
    "import time\n",
    "\n",
    "# Other imports\n",
    "import re as re\n",
    "import pandas as pd\n",
    "import os\n",
    "import sys\n",
    "import numpy as np\n",
    "\n",
    "import pymysql\n",
    "import sqlalchemy as alch\n",
    "from getpass import getpass\n",
    "\n",
    "from dotenv import load_dotenv\n",
    "load_dotenv()"
   ]
  },
  {
   "cell_type": "code",
   "execution_count": 5,
   "metadata": {},
   "outputs": [
    {
     "ename": "TimeoutException",
     "evalue": "Message: \n",
     "output_type": "error",
     "traceback": [
      "\u001b[0;31m---------------------------------------------------------------------------\u001b[0m",
      "\u001b[0;31mTimeoutException\u001b[0m                          Traceback (most recent call last)",
      "\u001b[1;32m/Users/kike/Documents/Personal/Educación/IronHack/Final Project/final_project/alcampo/scraping_alcampo.ipynb Cell 2\u001b[0m in \u001b[0;36m<cell line: 18>\u001b[0;34m()\u001b[0m\n\u001b[1;32m     <a href='vscode-notebook-cell:/Users/kike/Documents/Personal/Educaci%C3%B3n/IronHack/Final%20Project/final_project/alcampo/scraping_alcampo.ipynb#W1sZmlsZQ%3D%3D?line=9'>10</a>\u001b[0m cookies \u001b[39m=\u001b[39m WebDriverWait(driver, \u001b[39m10\u001b[39m)\u001b[39m.\u001b[39muntil(\n\u001b[1;32m     <a href='vscode-notebook-cell:/Users/kike/Documents/Personal/Educaci%C3%B3n/IronHack/Final%20Project/final_project/alcampo/scraping_alcampo.ipynb#W1sZmlsZQ%3D%3D?line=10'>11</a>\u001b[0m         EC\u001b[39m.\u001b[39mvisibility_of_element_located(\n\u001b[1;32m     <a href='vscode-notebook-cell:/Users/kike/Documents/Personal/Educaci%C3%B3n/IronHack/Final%20Project/final_project/alcampo/scraping_alcampo.ipynb#W1sZmlsZQ%3D%3D?line=11'>12</a>\u001b[0m             (By\u001b[39m.\u001b[39mCSS_SELECTOR, \u001b[39m'\u001b[39m\u001b[39mbutton[class=\u001b[39m\u001b[39m\"\u001b[39m\u001b[39mcc_b_ok auxOKButton cookie-button\u001b[39m\u001b[39m\"\u001b[39m\u001b[39m]\u001b[39m\u001b[39m'\u001b[39m)\n\u001b[1;32m     <a href='vscode-notebook-cell:/Users/kike/Documents/Personal/Educaci%C3%B3n/IronHack/Final%20Project/final_project/alcampo/scraping_alcampo.ipynb#W1sZmlsZQ%3D%3D?line=12'>13</a>\u001b[0m         )\n\u001b[1;32m     <a href='vscode-notebook-cell:/Users/kike/Documents/Personal/Educaci%C3%B3n/IronHack/Final%20Project/final_project/alcampo/scraping_alcampo.ipynb#W1sZmlsZQ%3D%3D?line=13'>14</a>\u001b[0m     )\u001b[39m.\u001b[39mclick()\n\u001b[1;32m     <a href='vscode-notebook-cell:/Users/kike/Documents/Personal/Educaci%C3%B3n/IronHack/Final%20Project/final_project/alcampo/scraping_alcampo.ipynb#W1sZmlsZQ%3D%3D?line=14'>15</a>\u001b[0m \u001b[39m#<button class=\"cc_b_ok auxOKButton cookie-button\">Aceptar cookies</button>\u001b[39;00m\n\u001b[1;32m     <a href='vscode-notebook-cell:/Users/kike/Documents/Personal/Educaci%C3%B3n/IronHack/Final%20Project/final_project/alcampo/scraping_alcampo.ipynb#W1sZmlsZQ%3D%3D?line=15'>16</a>\u001b[0m \n\u001b[1;32m     <a href='vscode-notebook-cell:/Users/kike/Documents/Personal/Educaci%C3%B3n/IronHack/Final%20Project/final_project/alcampo/scraping_alcampo.ipynb#W1sZmlsZQ%3D%3D?line=16'>17</a>\u001b[0m \u001b[39m# Insert zip code\u001b[39;00m\n\u001b[0;32m---> <a href='vscode-notebook-cell:/Users/kike/Documents/Personal/Educaci%C3%B3n/IronHack/Final%20Project/final_project/alcampo/scraping_alcampo.ipynb#W1sZmlsZQ%3D%3D?line=17'>18</a>\u001b[0m zip_code \u001b[39m=\u001b[39m WebDriverWait(driver, \u001b[39m10\u001b[39;49m)\u001b[39m.\u001b[39;49muntil(\n\u001b[1;32m     <a href='vscode-notebook-cell:/Users/kike/Documents/Personal/Educaci%C3%B3n/IronHack/Final%20Project/final_project/alcampo/scraping_alcampo.ipynb#W1sZmlsZQ%3D%3D?line=18'>19</a>\u001b[0m         EC\u001b[39m.\u001b[39;49mvisibility_of_element_located(\n\u001b[1;32m     <a href='vscode-notebook-cell:/Users/kike/Documents/Personal/Educaci%C3%B3n/IronHack/Final%20Project/final_project/alcampo/scraping_alcampo.ipynb#W1sZmlsZQ%3D%3D?line=19'>20</a>\u001b[0m             (By\u001b[39m.\u001b[39;49mCSS_SELECTOR, \u001b[39m'\u001b[39;49m\u001b[39mli[class=\u001b[39;49m\u001b[39m\"\u001b[39;49m\u001b[39mquestion\u001b[39;49m\u001b[39m\"\u001b[39;49m\u001b[39m]\u001b[39;49m\u001b[39m'\u001b[39;49m)\n\u001b[1;32m     <a href='vscode-notebook-cell:/Users/kike/Documents/Personal/Educaci%C3%B3n/IronHack/Final%20Project/final_project/alcampo/scraping_alcampo.ipynb#W1sZmlsZQ%3D%3D?line=20'>21</a>\u001b[0m         )\n\u001b[1;32m     <a href='vscode-notebook-cell:/Users/kike/Documents/Personal/Educaci%C3%B3n/IronHack/Final%20Project/final_project/alcampo/scraping_alcampo.ipynb#W1sZmlsZQ%3D%3D?line=21'>22</a>\u001b[0m     )\u001b[39m.\u001b[39mclick()\n",
      "File \u001b[0;32m/opt/miniconda3/envs/ironhack/lib/python3.9/site-packages/selenium/webdriver/support/wait.py:95\u001b[0m, in \u001b[0;36mWebDriverWait.until\u001b[0;34m(self, method, message)\u001b[0m\n\u001b[1;32m     93\u001b[0m     \u001b[39mif\u001b[39;00m time\u001b[39m.\u001b[39mmonotonic() \u001b[39m>\u001b[39m end_time:\n\u001b[1;32m     94\u001b[0m         \u001b[39mbreak\u001b[39;00m\n\u001b[0;32m---> 95\u001b[0m \u001b[39mraise\u001b[39;00m TimeoutException(message, screen, stacktrace)\n",
      "\u001b[0;31mTimeoutException\u001b[0m: Message: \n"
     ]
    }
   ],
   "source": [
    "cod_postal = '08012'\n",
    "\n",
    "# Start the driver \n",
    "driver = webdriver.Chrome()\n",
    "\n",
    "# Navigate to the login page\n",
    "driver.get('https://www.alcampo.es/compra-online/')\n",
    "\n",
    "# Accept cookies\n",
    "cookies = WebDriverWait(driver, 10).until(\n",
    "        EC.visibility_of_element_located(\n",
    "            (By.CSS_SELECTOR, 'button[class=\"cc_b_ok auxOKButton cookie-button\"]')\n",
    "        )\n",
    "    ).click()\n",
    "#<button class=\"cc_b_ok auxOKButton cookie-button\">Aceptar cookies</button>\n",
    "\n",
    "# Insert zip code\n",
    "zip_code = WebDriverWait(driver, 10).until(\n",
    "        EC.visibility_of_element_located(\n",
    "            (By.CSS_SELECTOR, 'li[class=\"question\"]')\n",
    "        )\n",
    "    ).click()\n",
    "\n",
    "#<li class=\"question\">\n",
    "#<a class=\"secondary-button black-secondary\" href=\"javascript:void(0);\" onclick=\"changeCPModal(&quot;&quot;)\">Indicar otro código postal</a>\n",
    "#</li>\n",
    "#<a class=\"secondary-button black-secondary\" href=\"javascript:void(0);\" onclick=\"changeCPModal(&quot;&quot;)\">Indicar otro código postal</a>\n"
   ]
  },
  {
   "cell_type": "code",
   "execution_count": null,
   "metadata": {},
   "outputs": [],
   "source": []
  }
 ],
 "metadata": {
  "kernelspec": {
   "display_name": "ironhack",
   "language": "python",
   "name": "python3"
  },
  "language_info": {
   "codemirror_mode": {
    "name": "ipython",
    "version": 3
   },
   "file_extension": ".py",
   "mimetype": "text/x-python",
   "name": "python",
   "nbconvert_exporter": "python",
   "pygments_lexer": "ipython3",
   "version": "3.9.12"
  },
  "orig_nbformat": 4
 },
 "nbformat": 4,
 "nbformat_minor": 2
}
