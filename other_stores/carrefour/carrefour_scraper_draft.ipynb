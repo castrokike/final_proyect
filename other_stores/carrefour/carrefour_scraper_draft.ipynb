{
 "cells": [
  {
   "cell_type": "code",
   "execution_count": 1,
   "metadata": {},
   "outputs": [
    {
     "data": {
      "text/plain": [
       "True"
      ]
     },
     "execution_count": 1,
     "metadata": {},
     "output_type": "execute_result"
    }
   ],
   "source": [
    "# Import libraries\n",
    "import chromedriver_autoinstaller\n",
    "chromedriver_autoinstaller.install()\n",
    "from selenium import webdriver\n",
    "from selenium.webdriver.common.keys import Keys\n",
    "from selenium.webdriver.common.by import By\n",
    "from selenium.webdriver.support.ui import WebDriverWait\n",
    "from selenium.webdriver.support import expected_conditions as EC\n",
    "from selenium.webdriver.chrome.options import Options\n",
    "from selenium.webdriver.common.action_chains import ActionChains\n",
    "\n",
    "\n",
    "# Time imports\n",
    "import random\n",
    "import datetime\n",
    "import time\n",
    "\n",
    "# Other imports\n",
    "import re as re\n",
    "import pandas as pd\n",
    "import os\n",
    "import sys\n",
    "import numpy as np\n",
    "\n",
    "import pymysql\n",
    "import sqlalchemy as alch\n",
    "from getpass import getpass\n",
    "\n",
    "from dotenv import load_dotenv\n",
    "load_dotenv()"
   ]
  },
  {
   "cell_type": "code",
   "execution_count": 37,
   "metadata": {},
   "outputs": [
    {
     "ename": "TypeError",
     "evalue": "argument of type 'WebElement' is not iterable",
     "output_type": "error",
     "traceback": [
      "\u001b[0;31m---------------------------------------------------------------------------\u001b[0m",
      "\u001b[0;31mTypeError\u001b[0m                                 Traceback (most recent call last)",
      "\u001b[1;32m/Users/kike/Documents/Personal/Educación/IronHack/Final Project/final_project/carrefour/carrefour_scraper_draft.ipynb Cell 2\u001b[0m in \u001b[0;36m<cell line: 48>\u001b[0;34m()\u001b[0m\n\u001b[1;32m     <a href='vscode-notebook-cell:/Users/kike/Documents/Personal/Educaci%C3%B3n/IronHack/Final%20Project/final_project/carrefour/carrefour_scraper_draft.ipynb#W1sZmlsZQ%3D%3D?line=46'>47</a>\u001b[0m category_spans \u001b[39m=\u001b[39m driver\u001b[39m.\u001b[39mfind_elements(By\u001b[39m.\u001b[39mCSS_SELECTOR, \u001b[39m'\u001b[39m\u001b[39mspan[class=\u001b[39m\u001b[39m\"\u001b[39m\u001b[39mcategory__title icon-p-down-arrow-thin\u001b[39m\u001b[39m\"\u001b[39m\u001b[39m]\u001b[39m\u001b[39m'\u001b[39m)\n\u001b[1;32m     <a href='vscode-notebook-cell:/Users/kike/Documents/Personal/Educaci%C3%B3n/IronHack/Final%20Project/final_project/carrefour/carrefour_scraper_draft.ipynb#W1sZmlsZQ%3D%3D?line=47'>48</a>\u001b[0m \u001b[39mfor\u001b[39;00m category \u001b[39min\u001b[39;00m category_spans:\n\u001b[0;32m---> <a href='vscode-notebook-cell:/Users/kike/Documents/Personal/Educaci%C3%B3n/IronHack/Final%20Project/final_project/carrefour/carrefour_scraper_draft.ipynb#W1sZmlsZQ%3D%3D?line=48'>49</a>\u001b[0m     \u001b[39mif\u001b[39;00m \u001b[39m\"\u001b[39;49m\u001b[39mProductos Frescos\u001b[39;49m\u001b[39m\"\u001b[39;49m \u001b[39min\u001b[39;49;00m category:\n\u001b[1;32m     <a href='vscode-notebook-cell:/Users/kike/Documents/Personal/Educaci%C3%B3n/IronHack/Final%20Project/final_project/carrefour/carrefour_scraper_draft.ipynb#W1sZmlsZQ%3D%3D?line=49'>50</a>\u001b[0m         \u001b[39mprint\u001b[39m(category)\n\u001b[1;32m     <a href='vscode-notebook-cell:/Users/kike/Documents/Personal/Educaci%C3%B3n/IronHack/Final%20Project/final_project/carrefour/carrefour_scraper_draft.ipynb#W1sZmlsZQ%3D%3D?line=52'>53</a>\u001b[0m \u001b[39m\"\"\"\u001b[39;00m\n\u001b[1;32m     <a href='vscode-notebook-cell:/Users/kike/Documents/Personal/Educaci%C3%B3n/IronHack/Final%20Project/final_project/carrefour/carrefour_scraper_draft.ipynb#W1sZmlsZQ%3D%3D?line=53'>54</a>\u001b[0m \u001b[39mcategory_links = driver.find_elements(By.CSS_SELECTOR, 'div[class=\"category__element\"]')\u001b[39;00m\n\u001b[1;32m     <a href='vscode-notebook-cell:/Users/kike/Documents/Personal/Educaci%C3%B3n/IronHack/Final%20Project/final_project/carrefour/carrefour_scraper_draft.ipynb#W1sZmlsZQ%3D%3D?line=54'>55</a>\u001b[0m \u001b[39mfor link in category_links:\u001b[39;00m\n\u001b[1;32m     <a href='vscode-notebook-cell:/Users/kike/Documents/Personal/Educaci%C3%B3n/IronHack/Final%20Project/final_project/carrefour/carrefour_scraper_draft.ipynb#W1sZmlsZQ%3D%3D?line=55'>56</a>\u001b[0m \u001b[39m    if not link.text.startswith(\"Ver todo\") and not link.text.startswith(\"Oportunidades\"):\u001b[39;00m\n\u001b[1;32m     <a href='vscode-notebook-cell:/Users/kike/Documents/Personal/Educaci%C3%B3n/IronHack/Final%20Project/final_project/carrefour/carrefour_scraper_draft.ipynb#W1sZmlsZQ%3D%3D?line=56'>57</a>\u001b[0m \u001b[39m        print(link.text)\u001b[39;00m\n\u001b[1;32m     <a href='vscode-notebook-cell:/Users/kike/Documents/Personal/Educaci%C3%B3n/IronHack/Final%20Project/final_project/carrefour/carrefour_scraper_draft.ipynb#W1sZmlsZQ%3D%3D?line=57'>58</a>\u001b[0m \u001b[39m\"\"\"\u001b[39;00m\n",
      "\u001b[0;31mTypeError\u001b[0m: argument of type 'WebElement' is not iterable"
     ]
    }
   ],
   "source": [
    "cod_postal = '08012'\n",
    "\n",
    "# Start the driver\n",
    "driver = webdriver.Chrome()\n",
    "\n",
    "# Navigate to the login page\n",
    "driver.get('https://www.carrefour.es/')\n",
    "\n",
    "# Accept cookies\n",
    "cookies = WebDriverWait(driver, 10).until(\n",
    "    EC.element_to_be_clickable(\n",
    "        (By.CSS_SELECTOR, 'button[id=\"onetrust-accept-btn-handler\"]')\n",
    ")).click()\n",
    "\n",
    "# <button id=\"onetrust-accept-btn-handler\">Accept All Cookies</button>\n",
    "\n",
    "\n",
    "# Enter zip and accept delivery estimate\n",
    "modify_zip = WebDriverWait(driver, 10).until(\n",
    "    EC.element_to_be_clickable(\n",
    "        (By.CSS_SELECTOR, 'button[aria-label=\" Modificar\"]')\n",
    ")).click()\n",
    "\n",
    "enter_number = WebDriverWait(driver, 10).until(\n",
    "    EC.element_to_be_clickable(\n",
    "        (By.CSS_SELECTOR, 'input[class=\"sale-point__postal-code-input\"]')\n",
    ")).send_keys(cod_postal)\n",
    "\n",
    "accept_button = WebDriverWait(driver, 10).until(\n",
    "    EC.element_to_be_clickable(\n",
    "        (By.CSS_SELECTOR, 'button[class=\"options-buttons__accept\"]')\n",
    ")).click()\n",
    "\n",
    "accept_delivery_estimate = WebDriverWait(driver, 10).until(\n",
    "    EC.element_to_be_clickable(\n",
    "        (By.CSS_SELECTOR, 'button[class=\"options-buttons__accept\"]')\n",
    "))\n",
    "\n",
    "driver.execute_script(\"arguments[0].click();\", accept_delivery_estimate)\n",
    "\n",
    "time.sleep(2)\n",
    "\n",
    "# Mapa web\n",
    "driver.get('https://www.carrefour.es/mapaweb')\n",
    "\n",
    "\n",
    "category_spans = driver.find_elements(By.CSS_SELECTOR, 'span[class=\"category__title icon-p-down-arrow-thin\"]')\n",
    "for category in category_spans:\n",
    "    if \"Productos Frescos\" in category:\n",
    "        print(category.text)\n",
    "\n",
    "\n",
    "\"\"\"\n",
    "category_links = driver.find_elements(By.CSS_SELECTOR, 'div[class=\"category__element\"]')\n",
    "for link in category_links:\n",
    "    if not link.text.startswith(\"Ver todo\") and not link.text.startswith(\"Oportunidades\"):\n",
    "        print(link.text)\n",
    "\"\"\""
   ]
  },
  {
   "cell_type": "code",
   "execution_count": 22,
   "metadata": {},
   "outputs": [],
   "source": [
    "# Start the driver\n",
    "driver = webdriver.Chrome()\n",
    "\n",
    "# Navigate to the login page\n",
    "driver.get('https://www.carrefour.es/supermercado/productos-frescos/carniceria/aves-y-pollo/cat190012/c')"
   ]
  },
  {
   "cell_type": "code",
   "execution_count": null,
   "metadata": {},
   "outputs": [],
   "source": []
  }
 ],
 "metadata": {
  "kernelspec": {
   "display_name": "ironhack",
   "language": "python",
   "name": "python3"
  },
  "language_info": {
   "codemirror_mode": {
    "name": "ipython",
    "version": 3
   },
   "file_extension": ".py",
   "mimetype": "text/x-python",
   "name": "python",
   "nbconvert_exporter": "python",
   "pygments_lexer": "ipython3",
   "version": "3.9.12"
  },
  "orig_nbformat": 4
 },
 "nbformat": 4,
 "nbformat_minor": 2
}
